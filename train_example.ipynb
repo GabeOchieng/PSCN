{
 "cells": [
  {
   "cell_type": "markdown",
   "metadata": {},
   "source": [
    "# A simple training example on mutag"
   ]
  },
  {
   "cell_type": "code",
   "execution_count": 1,
   "metadata": {
    "collapsed": false
   },
   "outputs": [
    {
     "name": "stderr",
     "output_type": "stream",
     "text": [
      "Using TensorFlow backend.\n",
      "//anaconda/lib/python3.5/importlib/_bootstrap.py:222: RuntimeWarning: compiletime version 3.6 of module 'tensorflow.python.framework.fast_tensor_util' does not match runtime version 3.5\n",
      "  return f(*args, **kwds)\n"
     ]
    }
   ],
   "source": [
    "from data_loader import load_local_data\n",
    "import networkx as nx\n",
    "from pscn import PSCN\n",
    "from sklearn.model_selection import train_test_split\n",
    "import numpy as np"
   ]
  },
  {
   "cell_type": "code",
   "execution_count": 2,
   "metadata": {
    "collapsed": true
   },
   "outputs": [],
   "source": [
    "mutag_dataset=load_local_data('./data','mutag')\n",
    "X,y=zip(*mutag_dataset)"
   ]
  },
  {
   "cell_type": "markdown",
   "metadata": {},
   "source": [
    "X is a list of Graph objects and y the list of the classes"
   ]
  },
  {
   "cell_type": "code",
   "execution_count": 17,
   "metadata": {
    "collapsed": true
   },
   "outputs": [],
   "source": [
    "pscn=PSCN(w=18,k=10,one_hot=7,epochs=10,batch_size=30,verbose=2) #see receptive_field_maker_example for more details"
   ]
  },
  {
   "cell_type": "code",
   "execution_count": 18,
   "metadata": {
    "collapsed": true
   },
   "outputs": [],
   "source": [
    "X_train, X_test, y_train, y_test=train_test_split(X,y,test_size=0.33, random_state=42)"
   ]
  },
  {
   "cell_type": "code",
   "execution_count": 19,
   "metadata": {
    "collapsed": false
   },
   "outputs": [
    {
     "name": "stdout",
     "output_type": "stream",
     "text": [
      "Time preprocess data in s 10.11533498764038\n",
      "Epoch 1/10\n",
      " - 0s - loss: 0.6501 - acc: 0.5840\n",
      "Epoch 2/10\n",
      " - 0s - loss: 0.5422 - acc: 0.7120\n",
      "Epoch 3/10\n",
      " - 0s - loss: 0.4916 - acc: 0.8080\n",
      "Epoch 4/10\n",
      " - 0s - loss: 0.4920 - acc: 0.7840\n",
      "Epoch 5/10\n",
      " - 0s - loss: 0.4871 - acc: 0.7760\n",
      "Epoch 6/10\n",
      " - 0s - loss: 0.4259 - acc: 0.8400\n",
      "Epoch 7/10\n",
      " - 0s - loss: 0.4284 - acc: 0.8000\n",
      "Epoch 8/10\n",
      " - 0s - loss: 0.4120 - acc: 0.8240\n",
      "Epoch 9/10\n",
      " - 0s - loss: 0.3921 - acc: 0.8160\n",
      "Epoch 10/10\n",
      " - 0s - loss: 0.4290 - acc: 0.8080\n",
      "Time fit data in s 1.069688081741333\n"
     ]
    }
   ],
   "source": [
    "pscn.fit(X_train,y_train)"
   ]
  },
  {
   "cell_type": "code",
   "execution_count": 20,
   "metadata": {
    "collapsed": false
   },
   "outputs": [
    {
     "name": "stdout",
     "output_type": "stream",
     "text": [
      "Time preprocess data in s 5.127400159835815\n"
     ]
    }
   ],
   "source": [
    "preds=pscn.predict(X_test)"
   ]
  },
  {
   "cell_type": "code",
   "execution_count": 21,
   "metadata": {
    "collapsed": false
   },
   "outputs": [
    {
     "data": {
      "text/plain": [
       "0.8888888888888888"
      ]
     },
     "execution_count": 21,
     "metadata": {},
     "output_type": "execute_result"
    }
   ],
   "source": [
    "np.sum(preds==y_test)/len(y_test)"
   ]
  },
  {
   "cell_type": "code",
   "execution_count": null,
   "metadata": {
    "collapsed": true
   },
   "outputs": [],
   "source": []
  }
 ],
 "metadata": {
  "anaconda-cloud": {},
  "kernelspec": {
   "display_name": "Python [default]",
   "language": "python",
   "name": "python3"
  },
  "language_info": {
   "codemirror_mode": {
    "name": "ipython",
    "version": 3
   },
   "file_extension": ".py",
   "mimetype": "text/x-python",
   "name": "python",
   "nbconvert_exporter": "python",
   "pygments_lexer": "ipython3",
   "version": "3.5.2"
  }
 },
 "nbformat": 4,
 "nbformat_minor": 1
}
